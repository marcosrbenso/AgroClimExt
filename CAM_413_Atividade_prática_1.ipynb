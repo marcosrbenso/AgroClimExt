{
  "nbformat": 4,
  "nbformat_minor": 0,
  "metadata": {
    "colab": {
      "provenance": [],
      "authorship_tag": "ABX9TyOLZFJVhgq1wtjmaouQrom3",
      "include_colab_link": true
    },
    "kernelspec": {
      "name": "ir",
      "display_name": "R"
    },
    "language_info": {
      "name": "R"
    }
  },
  "cells": [
    {
      "cell_type": "markdown",
      "metadata": {
        "id": "view-in-github",
        "colab_type": "text"
      },
      "source": [
        "<a href=\"https://colab.research.google.com/github/marcosrbenso/ClimateImpactML/blob/main/CAM_413_Atividade_pr%C3%A1tica_1.ipynb\" target=\"_parent\"><img src=\"https://colab.research.google.com/assets/colab-badge.svg\" alt=\"Open In Colab\"/></a>"
      ]
    },
    {
      "cell_type": "markdown",
      "source": [
        "\n",
        "\n",
        "> **R Colab Notebook - Atividade prática 1**\n",
        "\n",
        "\n",
        "\n",
        "📘 **Tópicos Especiais em Análise Ambiental**\n",
        "\n",
        "Objetivo da Aula\n",
        "\n",
        "Este notebook tem como objetivo introduzir os alunos ao uso do Google Colab para análise exploratória de dados e construção de um modelo de classificação utilizando o pacote Caret em R. Ao final da aula, os alunos deverão estar familiarizados com os seguintes conceitos e práticas:\n",
        "\n",
        "Como utilizar o Google Colab para rodar scripts em R.\n",
        "\n",
        "Carregar e explorar conjuntos de dados.\n",
        "\n",
        "Aplicar técnicas de análise exploratória de dados.\n",
        "\n",
        "Construir um modelo de classificação utilizando Caret.\n",
        "\n"
      ],
      "metadata": {
        "id": "D7sddDda1Mcs"
      }
    },
    {
      "cell_type": "markdown",
      "source": [
        "\n",
        "# 1. Executando R no Google Colab\n",
        "\n",
        "O Google Colab suporta Python por padrão, mas é possível rodar R alterando a linguagem da célula."
      ],
      "metadata": {
        "id": "3mv-7sISzevr"
      }
    },
    {
      "cell_type": "code",
      "source": [
        "# Verifique se o R está ativado no ambiente do Colab\n",
        "R.Version()"
      ],
      "metadata": {
        "colab": {
          "base_uri": "https://localhost:8080/",
          "height": 531
        },
        "id": "gU3n1ZaL1dNF",
        "outputId": "4606d097-795e-464e-b5f3-ca8ea9dc43ae"
      },
      "execution_count": null,
      "outputs": [
        {
          "output_type": "display_data",
          "data": {
            "text/html": [
              "<dl>\n",
              "\t<dt>$platform</dt>\n",
              "\t\t<dd>'x86_64-pc-linux-gnu'</dd>\n",
              "\t<dt>$arch</dt>\n",
              "\t\t<dd>'x86_64'</dd>\n",
              "\t<dt>$os</dt>\n",
              "\t\t<dd>'linux-gnu'</dd>\n",
              "\t<dt>$system</dt>\n",
              "\t\t<dd>'x86_64, linux-gnu'</dd>\n",
              "\t<dt>$status</dt>\n",
              "\t\t<dd>''</dd>\n",
              "\t<dt>$major</dt>\n",
              "\t\t<dd>'4'</dd>\n",
              "\t<dt>$minor</dt>\n",
              "\t\t<dd>'4.2'</dd>\n",
              "\t<dt>$year</dt>\n",
              "\t\t<dd>'2024'</dd>\n",
              "\t<dt>$month</dt>\n",
              "\t\t<dd>'10'</dd>\n",
              "\t<dt>$day</dt>\n",
              "\t\t<dd>'31'</dd>\n",
              "\t<dt>$`svn rev`</dt>\n",
              "\t\t<dd>'87279'</dd>\n",
              "\t<dt>$language</dt>\n",
              "\t\t<dd>'R'</dd>\n",
              "\t<dt>$version.string</dt>\n",
              "\t\t<dd>'R version 4.4.2 (2024-10-31)'</dd>\n",
              "\t<dt>$nickname</dt>\n",
              "\t\t<dd>'Pile of Leaves'</dd>\n",
              "</dl>\n"
            ],
            "text/markdown": "$platform\n:   'x86_64-pc-linux-gnu'\n$arch\n:   'x86_64'\n$os\n:   'linux-gnu'\n$system\n:   'x86_64, linux-gnu'\n$status\n:   ''\n$major\n:   '4'\n$minor\n:   '4.2'\n$year\n:   '2024'\n$month\n:   '10'\n$day\n:   '31'\n$`svn rev`\n:   '87279'\n$language\n:   'R'\n$version.string\n:   'R version 4.4.2 (2024-10-31)'\n$nickname\n:   'Pile of Leaves'\n\n\n",
            "text/latex": "\\begin{description}\n\\item[\\$platform] 'x86\\_64-pc-linux-gnu'\n\\item[\\$arch] 'x86\\_64'\n\\item[\\$os] 'linux-gnu'\n\\item[\\$system] 'x86\\_64, linux-gnu'\n\\item[\\$status] ''\n\\item[\\$major] '4'\n\\item[\\$minor] '4.2'\n\\item[\\$year] '2024'\n\\item[\\$month] '10'\n\\item[\\$day] '31'\n\\item[\\$`svn rev`] '87279'\n\\item[\\$language] 'R'\n\\item[\\$version.string] 'R version 4.4.2 (2024-10-31)'\n\\item[\\$nickname] 'Pile of Leaves'\n\\end{description}\n",
            "text/plain": [
              "$platform\n",
              "[1] \"x86_64-pc-linux-gnu\"\n",
              "\n",
              "$arch\n",
              "[1] \"x86_64\"\n",
              "\n",
              "$os\n",
              "[1] \"linux-gnu\"\n",
              "\n",
              "$system\n",
              "[1] \"x86_64, linux-gnu\"\n",
              "\n",
              "$status\n",
              "[1] \"\"\n",
              "\n",
              "$major\n",
              "[1] \"4\"\n",
              "\n",
              "$minor\n",
              "[1] \"4.2\"\n",
              "\n",
              "$year\n",
              "[1] \"2024\"\n",
              "\n",
              "$month\n",
              "[1] \"10\"\n",
              "\n",
              "$day\n",
              "[1] \"31\"\n",
              "\n",
              "$`svn rev`\n",
              "[1] \"87279\"\n",
              "\n",
              "$language\n",
              "[1] \"R\"\n",
              "\n",
              "$version.string\n",
              "[1] \"R version 4.4.2 (2024-10-31)\"\n",
              "\n",
              "$nickname\n",
              "[1] \"Pile of Leaves\"\n"
            ]
          },
          "metadata": {}
        }
      ]
    },
    {
      "cell_type": "markdown",
      "source": [
        "# 2. Carregando os pacotes e os dados"
      ],
      "metadata": {
        "id": "TtESg2qr3_4Q"
      }
    },
    {
      "cell_type": "code",
      "execution_count": null,
      "metadata": {
        "colab": {
          "base_uri": "https://localhost:8080/"
        },
        "id": "mbFdEydbrz_O",
        "outputId": "1d462a8e-9225-4c34-9a45-68ef9d65a04a"
      },
      "outputs": [
        {
          "output_type": "stream",
          "name": "stderr",
          "text": [
            "Installing package into ‘/usr/local/lib/R/site-library’\n",
            "(as ‘lib’ is unspecified)\n",
            "\n",
            "Installing package into ‘/usr/local/lib/R/site-library’\n",
            "(as ‘lib’ is unspecified)\n",
            "\n"
          ]
        }
      ],
      "source": [
        "# Instalando e Carregando os Pacotes Necessários\n",
        "install.packages(\"caret\")\n",
        "install.packages(\"randomForest\")\n",
        "library(caret)"
      ]
    },
    {
      "cell_type": "code",
      "source": [
        "# Carregamento de Dados\n",
        "# https://bioone.org/ContentImages/Journals/wbio/21/5/wlb.00105/graphic/t01_254.gif\n",
        "data(scat)\n",
        "str(scat)"
      ],
      "metadata": {
        "colab": {
          "base_uri": "https://localhost:8080/"
        },
        "id": "KXkZrdzDt782",
        "outputId": "3a90ab23-095c-4c79-9f5c-b1b69f134c88"
      },
      "execution_count": null,
      "outputs": [
        {
          "output_type": "stream",
          "name": "stdout",
          "text": [
            "'data.frame':\t110 obs. of  19 variables:\n",
            " $ Species  : Factor w/ 3 levels \"bobcat\",\"coyote\",..: 2 2 1 2 2 2 1 1 1 1 ...\n",
            " $ Month    : Factor w/ 9 levels \"April\",\"August\",..: 4 4 4 4 4 4 4 4 4 4 ...\n",
            " $ Year     : int  2012 2012 2012 2012 2012 2012 2012 2012 2012 2012 ...\n",
            " $ Site     : Factor w/ 2 levels \"ANNU\",\"YOLA\": 2 2 2 2 2 2 1 1 1 1 ...\n",
            " $ Location : Factor w/ 3 levels \"edge\",\"middle\",..: 1 1 2 2 1 1 3 3 3 2 ...\n",
            " $ Age      : int  5 3 3 5 5 5 1 3 5 5 ...\n",
            " $ Number   : int  2 2 2 2 4 3 5 7 2 1 ...\n",
            " $ Length   : num  9.5 14 9 8.5 8 9 6 5.5 11 20.5 ...\n",
            " $ Diameter : num  25.7 25.4 18.8 18.1 20.7 21.2 15.7 21.9 17.5 18 ...\n",
            " $ Taper    : num  41.9 37.1 16.5 24.7 20.1 28.5 8.2 19.3 29.1 21.4 ...\n",
            " $ TI       : num  1.63 1.46 0.88 1.36 0.97 1.34 0.52 0.88 1.66 1.19 ...\n",
            " $ Mass     : num  15.9 17.6 8.4 7.4 25.4 ...\n",
            " $ d13C     : num  -26.9 -29.6 -28.7 -20.1 -23.2 ...\n",
            " $ d15N     : num  6.94 9.87 8.52 5.79 7.01 8.28 4.2 3.89 7.34 6.06 ...\n",
            " $ CN       : num  8.5 11.3 8.1 11.5 10.6 9 5.4 5.6 5.8 7.7 ...\n",
            " $ ropey    : int  0 0 1 1 0 1 1 0 0 1 ...\n",
            " $ segmented: int  0 0 1 0 1 0 1 1 1 1 ...\n",
            " $ flat     : int  0 0 0 0 0 0 0 0 0 0 ...\n",
            " $ scrape   : int  0 0 1 0 0 0 1 0 0 0 ...\n"
          ]
        }
      ]
    },
    {
      "cell_type": "markdown",
      "source": [
        "# 3. Análise exploratória dos dados"
      ],
      "metadata": {
        "id": "VqwNHVES4F4a"
      }
    },
    {
      "cell_type": "code",
      "source": [
        "#  Análise Exploratória de Dados (EDA)\n",
        "str(scat) # Estrutura dos dados\n",
        "dim(scat) # Dimensões do conjunto de dados\n",
        "summary(scat) # Estatísticas descritivas"
      ],
      "metadata": {
        "colab": {
          "base_uri": "https://localhost:8080/",
          "height": 1000
        },
        "id": "3qfs9QJp1wd9",
        "outputId": "0e8b6b9f-61ea-44b3-85cd-3e15821ce213"
      },
      "execution_count": null,
      "outputs": [
        {
          "output_type": "stream",
          "name": "stdout",
          "text": [
            "'data.frame':\t110 obs. of  19 variables:\n",
            " $ Species  : Factor w/ 3 levels \"bobcat\",\"coyote\",..: 2 2 1 2 2 2 1 1 1 1 ...\n",
            " $ Month    : Factor w/ 9 levels \"April\",\"August\",..: 4 4 4 4 4 4 4 4 4 4 ...\n",
            " $ Year     : int  2012 2012 2012 2012 2012 2012 2012 2012 2012 2012 ...\n",
            " $ Site     : Factor w/ 2 levels \"ANNU\",\"YOLA\": 2 2 2 2 2 2 1 1 1 1 ...\n",
            " $ Location : Factor w/ 3 levels \"edge\",\"middle\",..: 1 1 2 2 1 1 3 3 3 2 ...\n",
            " $ Age      : int  5 3 3 5 5 5 1 3 5 5 ...\n",
            " $ Number   : int  2 2 2 2 4 3 5 7 2 1 ...\n",
            " $ Length   : num  9.5 14 9 8.5 8 9 6 5.5 11 20.5 ...\n",
            " $ Diameter : num  25.7 25.4 18.8 18.1 20.7 21.2 15.7 21.9 17.5 18 ...\n",
            " $ Taper    : num  41.9 37.1 16.5 24.7 20.1 28.5 8.2 19.3 29.1 21.4 ...\n",
            " $ TI       : num  1.63 1.46 0.88 1.36 0.97 1.34 0.52 0.88 1.66 1.19 ...\n",
            " $ Mass     : num  15.9 17.6 8.4 7.4 25.4 ...\n",
            " $ d13C     : num  -26.9 -29.6 -28.7 -20.1 -23.2 ...\n",
            " $ d15N     : num  6.94 9.87 8.52 5.79 7.01 8.28 4.2 3.89 7.34 6.06 ...\n",
            " $ CN       : num  8.5 11.3 8.1 11.5 10.6 9 5.4 5.6 5.8 7.7 ...\n",
            " $ ropey    : int  0 0 1 1 0 1 1 0 0 1 ...\n",
            " $ segmented: int  0 0 1 0 1 0 1 1 1 1 ...\n",
            " $ flat     : int  0 0 0 0 0 0 0 0 0 0 ...\n",
            " $ scrape   : int  0 0 1 0 0 0 1 0 0 0 ...\n"
          ]
        },
        {
          "output_type": "display_data",
          "data": {
            "text/html": [
              "<style>\n",
              ".list-inline {list-style: none; margin:0; padding: 0}\n",
              ".list-inline>li {display: inline-block}\n",
              ".list-inline>li:not(:last-child)::after {content: \"\\00b7\"; padding: 0 .5ex}\n",
              "</style>\n",
              "<ol class=list-inline><li>110</li><li>19</li></ol>\n"
            ],
            "text/markdown": "1. 110\n2. 19\n\n\n",
            "text/latex": "\\begin{enumerate*}\n\\item 110\n\\item 19\n\\end{enumerate*}\n",
            "text/plain": [
              "[1] 110  19"
            ]
          },
          "metadata": {}
        },
        {
          "output_type": "display_data",
          "data": {
            "text/plain": [
              "     Species         Month         Year        Site        Location \n",
              " bobcat  :57   November :17   Min.   :2011   ANNU:92   edge    :38  \n",
              " coyote  :28   January  :16   1st Qu.:2011   YOLA:18   middle  :47  \n",
              " gray_fox:25   April    :14   Median :2012             off_edge:25  \n",
              "               September:14   Mean   :2012                          \n",
              "               June     :13   3rd Qu.:2012                          \n",
              "               October  :12   Max.   :2013                          \n",
              "               (Other)  :24                                         \n",
              "      Age            Number          Length          Diameter    \n",
              " Min.   :1.000   Min.   :1.000   Min.   : 2.500   Min.   : 7.80  \n",
              " 1st Qu.:3.000   1st Qu.:2.000   1st Qu.: 6.500   1st Qu.:16.07  \n",
              " Median :3.000   Median :2.000   Median : 9.000   Median :18.05  \n",
              " Mean   :3.345   Mean   :2.618   Mean   : 9.298   Mean   :18.56  \n",
              " 3rd Qu.:5.000   3rd Qu.:3.000   3rd Qu.:11.500   3rd Qu.:21.32  \n",
              " Max.   :5.000   Max.   :7.000   Max.   :20.500   Max.   :30.00  \n",
              "                                                  NA's   :6      \n",
              "     Taper             TI             Mass            d13C       \n",
              " Min.   : 2.30   Min.   :0.230   Min.   : 0.94   Min.   :-29.85  \n",
              " 1st Qu.:17.30   1st Qu.:0.990   1st Qu.: 5.66   1st Qu.:-28.08  \n",
              " Median :25.80   Median :1.430   Median : 9.75   Median :-27.47  \n",
              " Mean   :27.43   Mean   :1.602   Mean   :12.46   Mean   :-26.86  \n",
              " 3rd Qu.:37.40   3rd Qu.:1.890   3rd Qu.:17.61   3rd Qu.:-26.45  \n",
              " Max.   :91.50   Max.   :8.680   Max.   :53.70   Max.   :-19.67  \n",
              " NA's   :17      NA's   :17      NA's   :1       NA's   :2       \n",
              "      d15N              CN             ropey          segmented     \n",
              " Min.   : 1.840   Min.   : 4.500   Min.   :0.0000   Min.   :0.0000  \n",
              " 1st Qu.: 5.620   1st Qu.: 6.200   1st Qu.:0.0000   1st Qu.:0.0000  \n",
              " Median : 6.885   Median : 7.250   Median :1.0000   Median :1.0000  \n",
              " Mean   : 7.436   Mean   : 8.399   Mean   :0.5636   Mean   :0.5636  \n",
              " 3rd Qu.: 8.305   3rd Qu.: 8.650   3rd Qu.:1.0000   3rd Qu.:1.0000  \n",
              " Max.   :18.000   Max.   :23.600   Max.   :1.0000   Max.   :1.0000  \n",
              " NA's   :2        NA's   :2                                         \n",
              "      flat             scrape       \n",
              " Min.   :0.00000   Min.   :0.00000  \n",
              " 1st Qu.:0.00000   1st Qu.:0.00000  \n",
              " Median :0.00000   Median :0.00000  \n",
              " Mean   :0.05455   Mean   :0.04545  \n",
              " 3rd Qu.:0.00000   3rd Qu.:0.00000  \n",
              " Max.   :1.00000   Max.   :1.00000  \n",
              "                                    "
            ]
          },
          "metadata": {}
        }
      ]
    },
    {
      "cell_type": "code",
      "source": [
        "library(ggplot2)\n",
        "ggplot(scat, aes(x = Species, y = Diameter, color = Species)) +\n",
        "  geom_boxplot() +\n",
        "  ggtitle(\"Comparação entre tamanho dos excrementos\")+\n",
        "  theme_minimal()"
      ],
      "metadata": {
        "colab": {
          "base_uri": "https://localhost:8080/",
          "height": 489
        },
        "id": "-Z6RXsmF10j0",
        "outputId": "9ad983d5-c6c9-4254-9e2e-28115af20aee"
      },
      "execution_count": null,
      "outputs": [
        {
          "output_type": "stream",
          "name": "stderr",
          "text": [
            "Warning message:\n",
            "“\u001b[1m\u001b[22mRemoved 6 rows containing non-finite outside the scale range\n",
            "(`stat_boxplot()`).”\n"
          ]
        },
        {
          "output_type": "display_data",
          "data": {
            "text/plain": [
              "plot without title"
            ],
            "image/png": "[encoded data removed]"
          },
          "metadata": {
            "image/png": {
              "width": 420,
              "height": 420
            }
          }
        }
      ]
    },
    {
      "cell_type": "code",
      "source": [
        "ggplot(scat, aes(x = Mass, y = Diameter, color = Species)) +\n",
        "  geom_jitter() +\n",
        "  ggtitle(\"Comparação entre diâmetro e massa\")+\n",
        "  geom_smooth(method='lm',se=F)+\n",
        "  theme_minimal()"
      ],
      "metadata": {
        "colab": {
          "base_uri": "https://localhost:8080/",
          "height": 541
        },
        "id": "dZJsjucz38DX",
        "outputId": "9cce766b-06e6-4aad-eec2-0b4d2d1e25de"
      },
      "execution_count": null,
      "outputs": [
        {
          "output_type": "stream",
          "name": "stderr",
          "text": [
            "\u001b[1m\u001b[22m`geom_smooth()` using formula = 'y ~ x'\n",
            "Warning message:\n",
            "“\u001b[1m\u001b[22mRemoved 7 rows containing non-finite outside the scale range (`stat_smooth()`).”\n",
            "Warning message:\n",
            "“\u001b[1m\u001b[22mRemoved 7 rows containing missing values or values outside the scale range\n",
            "(`geom_point()`).”\n"
          ]
        },
        {
          "output_type": "display_data",
          "data": {
            "text/plain": [
              "plot without title"
            ],
            "image/png": "[encoded data removed]"
          },
          "metadata": {
            "image/png": {
              "width": 420,
              "height": 420
            }
          }
        }
      ]
    },
    {
      "cell_type": "code",
      "source": [
        "ggplot(scat, aes(x = Species, y = CN, color = Species)) +\n",
        "  geom_boxplot() +\n",
        "  ggtitle(\"Comparação entre CN dos excrementos\")+\n",
        "  theme_minimal()"
      ],
      "metadata": {
        "colab": {
          "base_uri": "https://localhost:8080/",
          "height": 489
        },
        "id": "8IBo2W2t4aQZ",
        "outputId": "31b95270-3508-4e2b-95cd-1ef1c37932af"
      },
      "execution_count": null,
      "outputs": [
        {
          "output_type": "stream",
          "name": "stderr",
          "text": [
            "Warning message:\n",
            "“\u001b[1m\u001b[22mRemoved 2 rows containing non-finite outside the scale range\n",
            "(`stat_boxplot()`).”\n"
          ]
        },
        {
          "output_type": "display_data",
          "data": {
            "text/plain": [
              "plot without title"
            ],
            "image/png": "[encoded data removed]"
          },
          "metadata": {
            "image/png": {
              "width": 420,
              "height": 420
            }
          }
        }
      ]
    },
    {
      "cell_type": "markdown",
      "source": [
        "# 4. Construção do Modelo de Classificação"
      ],
      "metadata": {
        "id": "wvxDjJA45_Hy"
      }
    },
    {
      "cell_type": "code",
      "source": [
        "# Criar semente para reprodutibilidade\n",
        "set.seed(123)"
      ],
      "metadata": {
        "id": "fzyvjgEj6A1T"
      },
      "execution_count": null,
      "outputs": []
    },
    {
      "cell_type": "markdown",
      "source": [
        "## 4.1 Divisão entre treino e teste\n",
        "\n",
        "**Treino** selecionar parte dos dados para treinar o modelo (geralmente 80% dos dados)\n",
        "\n",
        "**Teste** selecionar parte dos dados para testar o model (geralmente 20% dos dados)\n",
        "\n",
        "Existem diversas técnicas utilizadas para divisão do treino e teste, neste caso, iremos fazer uma separação aleatória. O Caret tem uma função que permite sortear aleatóriamente garantindo que haja uma igual distribuição entre as categorias."
      ],
      "metadata": {
        "id": "u51xr3ON6lUs"
      }
    },
    {
      "cell_type": "code",
      "source": [
        "# Distibuição das categorias do dado total\n",
        "library(dplyr, quietly = TRUE)\n",
        "\n",
        "scat %>%\n",
        "  group_by(Species) %>%\n",
        "  summarise(\n",
        "  Numero = n()\n",
        "  )\n"
      ],
      "metadata": {
        "colab": {
          "base_uri": "https://localhost:8080/",
          "height": 192
        },
        "id": "1Bz3Jh1x6KCi",
        "outputId": "2b8945c0-3acc-4b22-c998-0fc9279b0e34"
      },
      "execution_count": null,
      "outputs": [
        {
          "output_type": "display_data",
          "data": {
            "text/html": [
              "<table class=\"dataframe\">\n",
              "<caption>A tibble: 3 × 2</caption>\n",
              "<thead>\n",
              "\t<tr><th scope=col>Species</th><th scope=col>Numero</th></tr>\n",
              "\t<tr><th scope=col>&lt;fct&gt;</th><th scope=col>&lt;int&gt;</th></tr>\n",
              "</thead>\n",
              "<tbody>\n",
              "\t<tr><td>bobcat  </td><td>57</td></tr>\n",
              "\t<tr><td>coyote  </td><td>28</td></tr>\n",
              "\t<tr><td>gray_fox</td><td>25</td></tr>\n",
              "</tbody>\n",
              "</table>\n"
            ],
            "text/markdown": "\nA tibble: 3 × 2\n\n| Species &lt;fct&gt; | Numero &lt;int&gt; |\n|---|---|\n| bobcat   | 57 |\n| coyote   | 28 |\n| gray_fox | 25 |\n\n",
            "text/latex": "A tibble: 3 × 2\n\\begin{tabular}{ll}\n Species & Numero\\\\\n <fct> & <int>\\\\\n\\hline\n\t bobcat   & 57\\\\\n\t coyote   & 28\\\\\n\t gray\\_fox & 25\\\\\n\\end{tabular}\n",
            "text/plain": [
              "  Species  Numero\n",
              "1 bobcat   57    \n",
              "2 coyote   28    \n",
              "3 gray_fox 25    "
            ]
          },
          "metadata": {}
        }
      ]
    },
    {
      "cell_type": "code",
      "source": [
        "# Função para sorteio\n",
        "scat <- scat %>% na.omit() # remover dados faltantes\n",
        "index <- createDataPartition(scat$Species, p = 0.7, list = FALSE)\n",
        "dados_treino <- scat[ index, ]\n",
        "dados_teste  <- scat[-index, ]\n",
        "\n",
        "print(\"Treino\")\n",
        "dados_treino %>%\n",
        "  group_by(Species) %>%\n",
        "  summarise(Numero = n())\n",
        "\n",
        "print(\"Teste\")\n",
        "dados_teste %>%\n",
        "  group_by(Species) %>%\n",
        "  summarise(Numero = n())"
      ],
      "metadata": {
        "colab": {
          "base_uri": "https://localhost:8080/",
          "height": 402
        },
        "id": "wVz3HXbt8WDP",
        "outputId": "045fa3a4-0cb4-43a8-82fb-dffa8e4ea37b"
      },
      "execution_count": null,
      "outputs": [
        {
          "output_type": "stream",
          "name": "stdout",
          "text": [
            "[1] \"Treino\"\n"
          ]
        },
        {
          "output_type": "display_data",
          "data": {
            "text/html": [
              "<table class=\"dataframe\">\n",
              "<caption>A tibble: 3 × 2</caption>\n",
              "<thead>\n",
              "\t<tr><th scope=col>Species</th><th scope=col>Numero</th></tr>\n",
              "\t<tr><th scope=col>&lt;fct&gt;</th><th scope=col>&lt;int&gt;</th></tr>\n",
              "</thead>\n",
              "<tbody>\n",
              "\t<tr><td>bobcat  </td><td>35</td></tr>\n",
              "\t<tr><td>coyote  </td><td>17</td></tr>\n",
              "\t<tr><td>gray_fox</td><td>12</td></tr>\n",
              "</tbody>\n",
              "</table>\n"
            ],
            "text/markdown": "\nA tibble: 3 × 2\n\n| Species &lt;fct&gt; | Numero &lt;int&gt; |\n|---|---|\n| bobcat   | 35 |\n| coyote   | 17 |\n| gray_fox | 12 |\n\n",
            "text/latex": "A tibble: 3 × 2\n\\begin{tabular}{ll}\n Species & Numero\\\\\n <fct> & <int>\\\\\n\\hline\n\t bobcat   & 35\\\\\n\t coyote   & 17\\\\\n\t gray\\_fox & 12\\\\\n\\end{tabular}\n",
            "text/plain": [
              "  Species  Numero\n",
              "1 bobcat   35    \n",
              "2 coyote   17    \n",
              "3 gray_fox 12    "
            ]
          },
          "metadata": {}
        },
        {
          "output_type": "stream",
          "name": "stdout",
          "text": [
            "[1] \"Teste\"\n"
          ]
        },
        {
          "output_type": "display_data",
          "data": {
            "text/html": [
              "<table class=\"dataframe\">\n",
              "<caption>A tibble: 3 × 2</caption>\n",
              "<thead>\n",
              "\t<tr><th scope=col>Species</th><th scope=col>Numero</th></tr>\n",
              "\t<tr><th scope=col>&lt;fct&gt;</th><th scope=col>&lt;int&gt;</th></tr>\n",
              "</thead>\n",
              "<tbody>\n",
              "\t<tr><td>bobcat  </td><td>15</td></tr>\n",
              "\t<tr><td>coyote  </td><td> 7</td></tr>\n",
              "\t<tr><td>gray_fox</td><td> 5</td></tr>\n",
              "</tbody>\n",
              "</table>\n"
            ],
            "text/markdown": "\nA tibble: 3 × 2\n\n| Species &lt;fct&gt; | Numero &lt;int&gt; |\n|---|---|\n| bobcat   | 15 |\n| coyote   |  7 |\n| gray_fox |  5 |\n\n",
            "text/latex": "A tibble: 3 × 2\n\\begin{tabular}{ll}\n Species & Numero\\\\\n <fct> & <int>\\\\\n\\hline\n\t bobcat   & 15\\\\\n\t coyote   &  7\\\\\n\t gray\\_fox &  5\\\\\n\\end{tabular}\n",
            "text/plain": [
              "  Species  Numero\n",
              "1 bobcat   15    \n",
              "2 coyote    7    \n",
              "3 gray_fox  5    "
            ]
          },
          "metadata": {}
        }
      ]
    },
    {
      "cell_type": "markdown",
      "source": [
        "## 4.2 Treinar o modelo"
      ],
      "metadata": {
        "id": "7MQfbprG_C14"
      }
    },
    {
      "cell_type": "code",
      "source": [
        "modelo <- train(Species ~ ., data = dados_treino, method = \"rf\")\n",
        "modelo"
      ],
      "metadata": {
        "colab": {
          "base_uri": "https://localhost:8080/",
          "height": 329
        },
        "id": "1e8t84iD7-QN",
        "outputId": "b586090f-70b1-44ca-904e-fe22509087a3"
      },
      "execution_count": null,
      "outputs": [
        {
          "output_type": "display_data",
          "data": {
            "text/plain": [
              "Random Forest \n",
              "\n",
              "64 samples\n",
              "18 predictors\n",
              " 3 classes: 'bobcat', 'coyote', 'gray_fox' \n",
              "\n",
              "No pre-processing\n",
              "Resampling: Bootstrapped (25 reps) \n",
              "Summary of sample sizes: 64, 64, 64, 64, 64, 64, ... \n",
              "Resampling results across tuning parameters:\n",
              "\n",
              "  mtry  Accuracy   Kappa    \n",
              "   2    0.6724854  0.3471224\n",
              "  14    0.6357515  0.3471071\n",
              "  26    0.6193773  0.3232299\n",
              "\n",
              "Accuracy was used to select the optimal model using the largest value.\n",
              "The final value used for the model was mtry = 2."
            ]
          },
          "metadata": {}
        }
      ]
    },
    {
      "cell_type": "markdown",
      "source": [
        "## 4.3 Testar o modelo"
      ],
      "metadata": {
        "id": "SgHttw0i_HmB"
      }
    },
    {
      "cell_type": "code",
      "source": [
        "pred <- predict(modelo, newdata = dados_teste)\n",
        "confusionMatrix(pred, dados_teste$Species)"
      ],
      "metadata": {
        "colab": {
          "base_uri": "https://localhost:8080/",
          "height": 538
        },
        "id": "_DXAijjo-6XA",
        "outputId": "08707030-2c4e-4edb-e033-aca89d2ba8e3"
      },
      "execution_count": null,
      "outputs": [
        {
          "output_type": "display_data",
          "data": {
            "text/plain": [
              "Confusion Matrix and Statistics\n",
              "\n",
              "          Reference\n",
              "Prediction bobcat coyote gray_fox\n",
              "  bobcat       14      2        2\n",
              "  coyote        1      5        0\n",
              "  gray_fox      0      0        3\n",
              "\n",
              "Overall Statistics\n",
              "                                         \n",
              "               Accuracy : 0.8148         \n",
              "                 95% CI : (0.6192, 0.937)\n",
              "    No Information Rate : 0.5556         \n",
              "    P-Value [Acc > NIR] : 0.004534       \n",
              "                                         \n",
              "                  Kappa : 0.6642         \n",
              "                                         \n",
              " Mcnemar's Test P-Value : NA             \n",
              "\n",
              "Statistics by Class:\n",
              "\n",
              "                     Class: bobcat Class: coyote Class: gray_fox\n",
              "Sensitivity                 0.9333        0.7143          0.6000\n",
              "Specificity                 0.6667        0.9500          1.0000\n",
              "Pos Pred Value              0.7778        0.8333          1.0000\n",
              "Neg Pred Value              0.8889        0.9048          0.9167\n",
              "Prevalence                  0.5556        0.2593          0.1852\n",
              "Detection Rate              0.5185        0.1852          0.1111\n",
              "Detection Prevalence        0.6667        0.2222          0.1111\n",
              "Balanced Accuracy           0.8000        0.8321          0.8000"
            ]
          },
          "metadata": {}
        }
      ]
    }
  ]
}